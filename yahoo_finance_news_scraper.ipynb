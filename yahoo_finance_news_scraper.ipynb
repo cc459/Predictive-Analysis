{
 "cells": [
  {
   "cell_type": "markdown",
   "metadata": {},
   "source": [
    "# Yahoo Finance News Web Scraper\n",
    "Notes: \n",
    "* Issues accessing articles behind a paywall or external source (e.g., https://finance.yahoo.com/news/top-midday-stories-pepsico-buy-160405890.html)\n",
    "* Need to continue formatting data"
   ]
  },
  {
   "cell_type": "code",
   "execution_count": 140,
   "metadata": {},
   "outputs": [],
   "source": [
    "import re\n",
    "import csv\n",
    "from time import sleep\n",
    "from bs4 import BeautifulSoup\n",
    "import requests\n",
    "import yfinance as yf"
   ]
  },
  {
   "cell_type": "code",
   "execution_count": 141,
   "metadata": {},
   "outputs": [],
   "source": [
    "import pandas as pd\n",
    "import numpy as np\n",
    "from bs4 import BeautifulSoup\n",
    "import math\n",
    "import re\n",
    "# import openpyxl\n",
    "\n",
    "# import requests\n",
    "# TODO: Compare using requests vs using drivers\n",
    "\n",
    "from selenium import webdriver\n",
    "from selenium.webdriver.support.ui import WebDriverWait\n",
    "from selenium.webdriver.support import expected_conditions as EC\n",
    "from selenium.webdriver.common.by import By\n",
    "from selenium.common.exceptions import TimeoutException\n",
    "\n",
    "from seleniumbase import Driver"
   ]
  },
  {
   "cell_type": "code",
   "execution_count": 142,
   "metadata": {},
   "outputs": [],
   "source": [
    "# Set up web driver\n",
    "options = webdriver.ChromeOptions()\n",
    "driver = Driver(uc=True, incognito=True)"
   ]
  },
  {
   "cell_type": "code",
   "execution_count": 143,
   "metadata": {},
   "outputs": [],
   "source": [
    "# Get website html data \n",
    "def get_basesoup(driver, url, wait=False, until_class='ClassOfMyElement'):\n",
    "    driver.get(url)\n",
    "\n",
    "    # Wait for page and element to completely load\n",
    "    if wait:\n",
    "        delay = 3 # seconds\n",
    "        try:\n",
    "            WebDriverWait(driver, delay).until(EC.presence_of_element_located((By.CLASS_NAME, until_class)))\n",
    "        except TimeoutException:\n",
    "            print(\"Loading took too much time!\")\n",
    "    \n",
    "    basesoup=BeautifulSoup(driver.page_source,\"html.parser\")\n",
    "    return basesoup"
   ]
  },
  {
   "cell_type": "code",
   "execution_count": 148,
   "metadata": {},
   "outputs": [],
   "source": [
    "def get_news_info(url):\n",
    "    soup = get_basesoup(driver, url)\n",
    "\n",
    "    try:\n",
    "        article = soup.find(\"div\", class_=\"article-wrap no-bb\")\n",
    "        cover_wrap = article.find(\"div\", class_=\"cover-wrap yf-1p8y0lh\")\n",
    "        title = cover_wrap.find(\"h1\", class_=\"cover-title yf-1p8y0lh\")\n",
    "        \n",
    "        body_wrap = article.find(\"div\", class_=\"body-wrap yf-i23rhs\")\n",
    "        body = body_wrap.find(\"div\", class_=\"body yf-5ef8bf\")\n",
    "        # for element in body:\n",
    "        #     print(element)  \n",
    "        \n",
    "        text = body.find_all(\"p\", class_=\"yf-1pe5jgt\")\n",
    "        for paragraph in text:\n",
    "            # for content in paragraph:\n",
    "            #     print(content)\n",
    "            print(paragraph)\n",
    "        \n",
    "        return [element for element in body]\n",
    "            \n",
    "        if not article:\n",
    "            print(f\"No articles found on page {url}\")\n",
    "            return []\n",
    "    except:\n",
    "        print(f\"Error accessing articles on page {url}\")\n",
    "        return []\n",
    "    \n",
    "    "
   ]
  },
  {
   "cell_type": "code",
   "execution_count": 149,
   "metadata": {},
   "outputs": [
    {
     "data": {
      "text/plain": [
       "{'https://finance.yahoo.com/m/c5a13497-81a5-3bb2-a0d4-2a21190bb665/tesla-and-elon-musk-won-a-big.html',\n",
       " 'https://finance.yahoo.com/m/e1df721a-7502-397f-9492-640a5515506f/top-stock-movers-now%3A-apa%2C.html',\n",
       " 'https://finance.yahoo.com/m/e90625ea-8f74-33ba-8bc4-c6b59e22bd67/tesla-stock-is-one-of-the.html',\n",
       " 'https://finance.yahoo.com/news/nio-skyrocketed-70-one-month-162028808.html',\n",
       " 'https://finance.yahoo.com/news/tesla-q3-deliveries-could-drive-further-strength-in-the-stock-151334127.html',\n",
       " 'https://finance.yahoo.com/news/tesla-q3-deliveries-set-beat-165016231.html',\n",
       " 'https://finance.yahoo.com/news/tesla-remix-tune-liveone-shares-171411249.html',\n",
       " 'https://finance.yahoo.com/news/top-midday-stories-pepsico-buy-160405890.html'}"
      ]
     },
     "execution_count": 149,
     "metadata": {},
     "output_type": "execute_result"
    }
   ],
   "source": [
    "# Input company\n",
    "ticker = 'TSLA'\n",
    "\n",
    "# Access company news\n",
    "news = yf.Ticker(ticker).news\n",
    "\n",
    "# # Article is a dictionary, info is a key value pairing\n",
    "# for article in news:\n",
    "#     [print(info) for info in article.items()]\n",
    "\n",
    "# Construct list of urls\n",
    "urls = {dictionary['link'] for dictionary in news}   \n",
    "urls"
   ]
  },
  {
   "cell_type": "code",
   "execution_count": 150,
   "metadata": {},
   "outputs": [
    {
     "name": "stdout",
     "output_type": "stream",
     "text": [
      "<p class=\"yf-1pe5jgt\"><br/></p>\n",
      "<p class=\"yf-1pe5jgt\">Major U.S. indexes lost ground at midday Tuesday as worries about rising tensions in the Middle East weighed on markets.</p>\n",
      "<p class=\"yf-1pe5jgt\">Oil prices rose, lifting shares of APA and other companies in the oil industry.</p>\n",
      "<p class=\"yf-1pe5jgt\">Apple shares fell as Barclays warned of weak demand for the iPhone 16.</p>\n",
      "<p class=\"yf-1pe5jgt\"><br/><br/></p>\n",
      "<p class=\"yf-1pe5jgt\">Major U.S. indexes lost ground to begin the new month and quarter at midday Tuesday as concerns about Middle East tensions rattled the market. The Nasdaq fell more than 2%, the S&amp;P 500 lost 1%, and the Dow was lower as well.</p>\n",
      "<p class=\"yf-1pe5jgt\">Shares of APA Corporation (<span>APA</span>) and other oil companies advanced along with the price of crude on concerns about tensions in the Middle East.</p>\n",
      "<p class=\"yf-1pe5jgt\">The prospect of escalating conflict in the region also lifted shares of military contractors Northrop Grumman (<span>NOC</span>) and Lockheed Martin (<span>LMT</span>).</p>\n",
      "<p class=\"yf-1pe5jgt\">Tesla (<span>TSLA</span>) shares declined as Chinese electric vehicle (EV) rivals posted record September deliveries and Apple (<span>AAPL</span>) shares fell as Barclays warned of weak demand for the iPhone 16.</p>\n",
      "<p class=\"yf-1pe5jgt\">Shares of Amentum (<span>AMTM</span>) plunged after <a class=\"link\" data-rapid_p=\"10\" data-ylk=\"slk:soaring yesterday;elm:context_link;itc:0;sec:content-canvas\" href=\"https://www.investopedia.com/s-and-p-500-gains-and-losses-today-late-rally-lifts-index-to-record-to-close-out-q3-8720668\" rel=\"nofollow noopener\" target=\"_blank\">soaring yesterday</a> when the engineering services firm had its first trading day as a member of the S&amp;P 500 index.</p>\n",
      "<p class=\"yf-1pe5jgt\">United Natural Foods (<span>UNFI</span>) shares soared as the grocery wholesaler reported a surprise adjusted profit on booming sales from its biggest customer, Amazon's (<span>AMZN</span>) Whole Foods.</p>\n",
      "<p class=\"yf-1pe5jgt\">The Middle East worries drove investors to traditional <a class=\"link\" data-rapid_p=\"11\" data-ylk=\"slk:safe havens;elm:context_link;itc:0;sec:content-canvas\" href=\"https://www.investopedia.com/terms/s/safe-haven.asp\" rel=\"nofollow noopener\" target=\"_blank\">safe havens</a> including gold and U.S. Treasurys, which moved higher. The U.S. dollar was up on the euro and pound, but lost ground to the yen. Most major cryptocurrencies traded lower.</p>\n",
      "<p class=\"yf-1pe5jgt\">Read the original article on <a class=\"link\" data-rapid_p=\"12\" data-ylk=\"slk:Investopedia;elm:context_link;itc:0;sec:content-canvas\" href=\"https://www.investopedia.com/top-stock-movers-now-apa-apple-tesla-and-more-8721186\" rel=\"nofollow noopener\" target=\"_blank\">Investopedia</a>.</p>\n"
     ]
    },
    {
     "data": {
      "text/plain": [
       "[' ',\n",
       " <p class=\"yf-1pe5jgt\"><br/></p>,\n",
       " <h3 class=\"yf-81ylsx\">Key Takeaways</h3>,\n",
       " <ul class=\"yf-1woyvo2\"><li class=\"yf-1woyvo2\"><p class=\"yf-1pe5jgt\">Major U.S. indexes lost ground at midday Tuesday as worries about rising tensions in the Middle East weighed on markets.</p> </li><li class=\"yf-1woyvo2\"><p class=\"yf-1pe5jgt\">Oil prices rose, lifting shares of APA and other companies in the oil industry.</p> </li><li class=\"yf-1woyvo2\"><p class=\"yf-1pe5jgt\">Apple shares fell as Barclays warned of weak demand for the iPhone 16.</p> </li></ul>,\n",
       " <p class=\"yf-1pe5jgt\"><br/><br/></p>,\n",
       " <p class=\"yf-1pe5jgt\">Major U.S. indexes lost ground to begin the new month and quarter at midday Tuesday as concerns about Middle East tensions rattled the market. The Nasdaq fell more than 2%, the S&amp;P 500 lost 1%, and the Dow was lower as well.</p>,\n",
       " <p class=\"yf-1pe5jgt\">Shares of APA Corporation (<span>APA</span>) and other oil companies advanced along with the price of crude on concerns about tensions in the Middle East.</p>,\n",
       " <p class=\"yf-1pe5jgt\">The prospect of escalating conflict in the region also lifted shares of military contractors Northrop Grumman (<span>NOC</span>) and Lockheed Martin (<span>LMT</span>).</p>,\n",
       " <p class=\"yf-1pe5jgt\">Tesla (<span>TSLA</span>) shares declined as Chinese electric vehicle (EV) rivals posted record September deliveries and Apple (<span>AAPL</span>) shares fell as Barclays warned of weak demand for the iPhone 16.</p>,\n",
       " <p class=\"yf-1pe5jgt\">Shares of Amentum (<span>AMTM</span>) plunged after <a class=\"link\" data-rapid_p=\"10\" data-ylk=\"slk:soaring yesterday;elm:context_link;itc:0;sec:content-canvas\" href=\"https://www.investopedia.com/s-and-p-500-gains-and-losses-today-late-rally-lifts-index-to-record-to-close-out-q3-8720668\" rel=\"nofollow noopener\" target=\"_blank\">soaring yesterday</a> when the engineering services firm had its first trading day as a member of the S&amp;P 500 index.</p>,\n",
       " <p class=\"yf-1pe5jgt\">United Natural Foods (<span>UNFI</span>) shares soared as the grocery wholesaler reported a surprise adjusted profit on booming sales from its biggest customer, Amazon's (<span>AMZN</span>) Whole Foods.</p>,\n",
       " <p class=\"yf-1pe5jgt\">The Middle East worries drove investors to traditional <a class=\"link\" data-rapid_p=\"11\" data-ylk=\"slk:safe havens;elm:context_link;itc:0;sec:content-canvas\" href=\"https://www.investopedia.com/terms/s/safe-haven.asp\" rel=\"nofollow noopener\" target=\"_blank\">safe havens</a> including gold and U.S. Treasurys, which moved higher. The U.S. dollar was up on the euro and pound, but lost ground to the yen. Most major cryptocurrencies traded lower.</p>,\n",
       " <figure class=\"yf-8xybrv\"><div class=\"image-container yf-1ma19wg\" style=\"aspect-ratio:1.4678899082568808\"><img alt=\"&amp;lt;p&amp;gt;TradingView&amp;lt;/p&amp;gt;\" class=\"figure-img yf-1ma19wg\" height=\"436\" loading=\"eager\" src=\"https://s.yimg.com/ny/api/res/1.2/339FNbWog7CruXFqP.XxoA--/YXBwaWQ9aGlnaGxhbmRlcjt3PTk2MDtoPTY1NDtjZj13ZWJw/https://media.zenfs.com/en/investopedia_245/1cc2929b843b76c73792cef288f32798\" width=\"640\"/></div> <figcaption class=\"yf-8xybrv\"><p>TradingView</p> </figcaption></figure>,\n",
       " <p class=\"yf-1pe5jgt\">Read the original article on <a class=\"link\" data-rapid_p=\"12\" data-ylk=\"slk:Investopedia;elm:context_link;itc:0;sec:content-canvas\" href=\"https://www.investopedia.com/top-stock-movers-now-apa-apple-tesla-and-more-8721186\" rel=\"nofollow noopener\" target=\"_blank\">Investopedia</a>.</p>,\n",
       " ' ',\n",
       " <div class=\"view-cmts yf-13m496w\" data-testid=\"view-comments\" id=\"view-cmts-e1df721a-7502-397f-9492-640a5515506f\"><button aria-label=\"View Comments\" class=\"secondary-btn fin-size-large view-cmts-button rounded yf-15mk0m\" data-rapid_p=\"13\" data-ylk=\"elm:cmmt_open;itc:1;sec:view-cmnts-cta;slk:View%20Comments;subsec:openweb\" title=\"View Comments\"><div class=\"icon fin-icon inherit-icn sz-x-large yf-7v4gbg\"><svg viewbox=\"0 0 24 24\" xmlns=\"http://www.w3.org/2000/svg\"><path d=\"M21.99 4c0-1.1-.89-2-1.99-2H4c-1.1 0-2 .9-2 2v12c0 1.1.9 2 2 2h14l4 4zM20 4v13.17L18.83 16H4V4zM6 12h12v2H6zm0-3h12v2H6zm0-3h12v2H6z\"></path></svg></div> <span>View Comments </span></button></div>,\n",
       " ' ']"
      ]
     },
     "execution_count": 150,
     "metadata": {},
     "output_type": "execute_result"
    }
   ],
   "source": [
    "# Scrape one article\n",
    "get_news_info(\"https://finance.yahoo.com/news/top-stock-movers-now-apa-172011005.html\")"
   ]
  },
  {
   "cell_type": "code",
   "execution_count": 147,
   "metadata": {},
   "outputs": [
    {
     "name": "stdout",
     "output_type": "stream",
     "text": [
      "<p class=\"yf-1pe5jgt\">Tesla Q3 Deliveries Set to Beat Forecasts, Robotaxi Event to Unveil 'Game Changing' Tech, Wedbush Says</p>\n",
      "<p class=\"yf-1pe5jgt\"><!-- HTML_TAG_START -->Tesla (<a class=\"link\" data-i13n=\"cpos:1;pos:1\" data-ylk=\"slk:TSLA;cpos:1;pos:1;elm:context_link;itc:0;sec:content-canvas\" href=\"https://finance.yahoo.com/quote/TSLA\">TSLA</a>) is poised to deliver third quarter deliveries as early as Wednesday, a result that could push the stock beyond the strong recent gains it has already seen.<!-- HTML_TAG_END --></p>\n",
      "<p class=\"yf-1pe5jgt\"><!-- HTML_TAG_START -->Wall Street expects Tesla to deliver around 461,000 electric vehicles globally in the third quarter, with annual delivery estimates coming in at 1.79 million, per Bloomberg. This figure would be a sequential improvement from the second quarter when Tesla delivered approximately 444,000 vehicles; however, it would be below the 466,000 EVs delivered a year ago.<!-- HTML_TAG_END --></p>\n",
      "<p class=\"yf-1pe5jgt\"><!-- HTML_TAG_START -->Tesla stock is up over 20% in the past month, fueled by optimism about its <a class=\"link yahoo-link\" data-i13n=\"cpos:2;pos:1\" data-ylk=\"slk:upcoming robotaxi event on Oct. 10;cpos:2;pos:1;elm:context_link;itc:0;sec:content-canvas;outcm:mb_qualified_link;_E:mb_qualified_link;ct:story;\" href=\"https://finance.yahoo.com/news/bullish-tesla-analyst-on-what-to-expect-at-musks-robotaxi-day-193244558.html\">upcoming robotaxi event on Oct. 10</a> and good news coming out of China <a class=\"link\" data-i13n=\"cpos:3;pos:1\" data-ylk=\"slk:indicating rising sales;cpos:3;pos:1;elm:context_link;itc:0;sec:content-canvas\" href=\"https://www.reuters.com/business/autos-transportation/teslas-china-sales-have-best-month-year-august-2024-09-03/\" rel=\"nofollow noopener\" target=\"_blank\">indicating rising sales</a> there.<!-- HTML_TAG_END --></p>\n",
      "<p class=\"yf-1pe5jgt\"><!-- HTML_TAG_START -->A strong third quarter delivery report would also assuage fears of a “notably lower” annual vehicle growth rate, which Tesla <a class=\"link yahoo-link\" data-i13n=\"cpos:4;pos:1\" data-ylk=\"slk:warned about after Q1;cpos:4;pos:1;elm:context_link;itc:0;sec:content-canvas;outcm:mb_qualified_link;_E:mb_qualified_link;ct:story;\" href=\"https://finance.yahoo.com/news/tesla-stock-tumbles-almost-5-after-big-q1-delivery-miss-200512800.html\">warned about after Q1</a>.<!-- HTML_TAG_END --></p>\n",
      "<p class=\"yf-1pe5jgt\"><!-- HTML_TAG_START -->Wall Street analysts agree with the narrative of improving sales and, in some cases, have boosted expectations.<!-- HTML_TAG_END --></p>\n",
      "<p class=\"yf-1pe5jgt\"><!-- HTML_TAG_START -->Piper Sandler analyst Alexander Potter raised his delivery estimates, and now sees deliveries of 459,000 EVs globally, with a full-year forecast of 1.75 million units. While Potter’s estimate is still slightly below consensus, Potter believes Tesla may report its best quarter ever in China.<!-- HTML_TAG_END --></p>\n",
      "<p class=\"yf-1pe5jgt\"><!-- HTML_TAG_START -->Barclays analyst Dan Levy sees deliveries topping 470,000 units in Q3, easily beating estimates. Levy and Barclays cite July data for global EV sales and China sales based on August registrations and production data.<!-- HTML_TAG_END --></p>\n",
      "<p class=\"yf-1pe5jgt\"><!-- HTML_TAG_START -->“Our delivery estimate implies volume up ~6% sequentially and up ~8% [year over year] — which would be Tesla's first quarterly result in 2024 with positive [year-over-year] growth,” Levy wrote in a note to clients. “We believe that a beat could drive further strength of the stock into Robotaxi Day, serving as a reminder that at least for now concerns on fundamentals have dissipated.”<!-- HTML_TAG_END --></p>\n",
      "<p class=\"yf-1pe5jgt\"><!-- HTML_TAG_START -->Tesla bull Dan Ives at Wedbush predicts that not only will sales improve in Q3 but also that profitability may finally improve after a steep slide over the past year.<!-- HTML_TAG_END --></p>\n",
      "<p class=\"yf-1pe5jgt\"><!-- HTML_TAG_START -->“Importantly we believe price cuts are now mostly in the rear view mirror and should remove a margin overhang from the Tesla story which has plagued the name over the past year,” Ives wrote in a note last week. “We believe gross margins should finally start to rebound from these levels with 3Q a big step forward.”<!-- HTML_TAG_END --></p>\n",
      "<p class=\"yf-1pe5jgt\"><!-- HTML_TAG_START -->Interestingly, analysts are also starting to model sales for the Cybertruck, which has seen <a class=\"link\" data-i13n=\"cpos:5;pos:1\" data-ylk=\"slk:production;cpos:5;pos:1;elm:context_link;itc:0;sec:content-canvas\" href=\"https://electrek.co/2024/06/14/tesla-produces-1300-cybertrucks-per-week-foundations-series/\" rel=\"nofollow noopener\" target=\"_blank\">production</a> and sales data start climbing.<!-- HTML_TAG_END --></p>\n",
      "<p class=\"yf-1pe5jgt\"><!-- HTML_TAG_START -->S&amp;P Global Mobility <a class=\"link\" data-i13n=\"cpos:6;pos:1\" data-ylk=\"slk:data showed that Tesla sold over 5,000 Cybertrucks;cpos:6;pos:1;elm:context_link;itc:0;sec:content-canvas\" href=\"https://www.forbes.com/sites/brookecrothers/2024/09/22/cybertruck-surge-tesla-pickup-sales-jump-despite-100k-starting-price-beating-much-cheaper-mustang-mach-e/\" rel=\"nofollow noopener\" target=\"_blank\">data showed that Tesla sold over 5,000 Cybertrucks</a> in July, the most recent month for which the firm has data collected, with year-to-date sales hitting 17,722.<!-- HTML_TAG_END --></p>\n",
      "<p class=\"yf-1pe5jgt\"><!-- HTML_TAG_START -->Deutsche Bank predicts the Cybertruck, which is only on sale in the US, will see sales hit 13,500 in the third quarter.<!-- HTML_TAG_END --></p>\n",
      "<p class=\"yf-1pe5jgt\"><!-- HTML_TAG_START -->While that figure would only represent 3% of overall sales, it is climbing and, at the margin, could represent the difference between a sales beat or miss for Tesla’s overall deliveries.<!-- HTML_TAG_END --></p>\n",
      "<p class=\"yf-1pe5jgt\"><!-- HTML_TAG_START --><em>Pras Subramanian is a reporter for Yahoo Finance. You can follow him on</em><a class=\"link\" data-i13n=\"cpos:7;pos:1\" data-ylk=\"slk:Twitter;cpos:7;pos:1;elm:context_link;itc:0;sec:content-canvas\" href=\"https://twitter.com/Pras_S\" rel=\"nofollow noopener\" target=\"_blank\"><em> Twitter</em></a><em> and on</em><a class=\"link\" data-i13n=\"cpos:8;pos:1\" data-ylk=\"slk:Instagram;cpos:8;pos:1;elm:context_link;itc:0;sec:content-canvas\" href=\"https://www.instagram.com/pras_s/\" rel=\"nofollow noopener\" target=\"_blank\"><em> Instagram</em></a><em>.</em><!-- HTML_TAG_END --></p>\n",
      "<p class=\"yf-1pe5jgt\"><!-- HTML_TAG_START --><a class=\"link\" data-i13n=\"cpos:9;pos:1\" data-ylk=\"slk:Click here for the latest stock market news and in-depth analysis, including events that move stocks;cpos:9;pos:1;elm:context_link;itc:0;sec:content-canvas\" href=\"https://finance.yahoo.com/topic/stock-market-news/\"><strong>Click here for the latest stock market news and in-depth analysis, including events that move stocks</strong></a><!-- HTML_TAG_END --></p>\n",
      "<p class=\"yf-1pe5jgt\"><!-- HTML_TAG_START --><a class=\"link\" data-i13n=\"cpos:10;pos:1\" data-ylk=\"slk:Read the latest financial and business news from Yahoo Finance;cpos:10;pos:1;elm:context_link;itc:0;sec:content-canvas\" href=\"https://finance.yahoo.com/news/\"><strong>Read the latest financial and business news from Yahoo Finance</strong></a><!-- HTML_TAG_END --></p>\n",
      "<p class=\"yf-1pe5jgt\"><br/></p>\n",
      "<p class=\"yf-1pe5jgt\">Major U.S. indexes lost ground at midday Tuesday as worries about rising tensions in the Middle East weighed on markets.</p>\n",
      "<p class=\"yf-1pe5jgt\">Oil prices rose, lifting shares of APA and other companies in the oil industry.</p>\n",
      "<p class=\"yf-1pe5jgt\">Apple shares fell as Barclays warned of weak demand for the iPhone 16.</p>\n",
      "<p class=\"yf-1pe5jgt\"><br/><br/></p>\n",
      "<p class=\"yf-1pe5jgt\">Major U.S. indexes lost ground to begin the new month and quarter at midday Tuesday as concerns about Middle East tensions rattled the market. The Nasdaq fell more than 2%, the S&amp;P 500 lost 1%, and the Dow was lower as well.</p>\n",
      "<p class=\"yf-1pe5jgt\">Shares of APA Corporation (<span>APA</span>) and other oil companies advanced along with the price of crude on concerns about tensions in the Middle East.</p>\n",
      "<p class=\"yf-1pe5jgt\">The prospect of escalating conflict in the region also lifted shares of military contractors Northrop Grumman (<span>NOC</span>) and Lockheed Martin (<span>LMT</span>).</p>\n",
      "<p class=\"yf-1pe5jgt\">Tesla (<span>TSLA</span>) shares declined as Chinese electric vehicle (EV) rivals posted record September deliveries and Apple (<span>AAPL</span>) shares fell as Barclays warned of weak demand for the iPhone 16.</p>\n",
      "<p class=\"yf-1pe5jgt\">Shares of Amentum (<span>AMTM</span>) plunged after <a class=\"link\" data-rapid_p=\"10\" data-ylk=\"slk:soaring yesterday;elm:context_link;itc:0;sec:content-canvas\" href=\"https://www.investopedia.com/s-and-p-500-gains-and-losses-today-late-rally-lifts-index-to-record-to-close-out-q3-8720668\" rel=\"nofollow noopener\" target=\"_blank\">soaring yesterday</a> when the engineering services firm had its first trading day as a member of the S&amp;P 500 index.</p>\n",
      "<p class=\"yf-1pe5jgt\">United Natural Foods (<span>UNFI</span>) shares soared as the grocery wholesaler reported a surprise adjusted profit on booming sales from its biggest customer, Amazon's (<span>AMZN</span>) Whole Foods.</p>\n",
      "<p class=\"yf-1pe5jgt\">The Middle East worries drove investors to traditional <a class=\"link\" data-rapid_p=\"11\" data-ylk=\"slk:safe havens;elm:context_link;itc:0;sec:content-canvas\" href=\"https://www.investopedia.com/terms/s/safe-haven.asp\" rel=\"nofollow noopener\" target=\"_blank\">safe havens</a> including gold and U.S. Treasurys, which moved higher. The U.S. dollar was up on the euro and pound, but lost ground to the yen. Most major cryptocurrencies traded lower.</p>\n",
      "<p class=\"yf-1pe5jgt\">Read the original article on <a class=\"link\" data-rapid_p=\"12\" data-ylk=\"slk:Investopedia;elm:context_link;itc:0;sec:content-canvas\" href=\"https://www.investopedia.com/top-stock-movers-now-apa-apple-tesla-and-more-8721186\" rel=\"nofollow noopener\" target=\"_blank\">Investopedia</a>.</p>\n",
      "<p class=\"yf-1pe5jgt\">October is a big month for the electric-vehicle maker with third-quarter delivery results and a robotaxi event coming.</p>\n",
      "<p class=\"yf-1pe5jgt\"><a class=\"link\" data-rapid_p=\"8\" data-ylk=\"slk:Tesla and CEO Elon Musk;elm:context_link;itc:0;sec:content-canvas\" href=\"https://jalopnik.com/elon-musk-says-tesla-will-have-humanoid-robots-next-yea-1851601477\" rel=\"nofollow noopener\" target=\"_blank\">Tesla and CEO Elon Musk</a> got a big win in court when the automaker won the dismissal of <a class=\"link\" data-rapid_p=\"9\" data-ylk=\"slk:a shareholder lawsuit that alleged misleading statements;elm:context_link;itc:0;sec:content-canvas\" href=\"https://jalopnik.com/tesla-shareholders-aghast-that-full-self-driving-may-ha-1850167280\" rel=\"nofollow noopener\" target=\"_blank\">a shareholder lawsuit that alleged misleading statements</a> about the capabilities of self-driving were said to prop up its stock price. While this is certainly a win, <a class=\"link\" data-rapid_p=\"10\" data-ylk=\"slk:Tesla and Musk;elm:context_link;itc:0;sec:content-canvas\" href=\"https://jalopnik.com/it-sure-sounds-like-elon-musk-is-propping-up-xai-with-t-1851643922\" rel=\"nofollow noopener\" target=\"_blank\">Tesla and Musk</a> can’t breathe too big of a sign of relief yet. The company still faces a number of other complaints and regulatory investigations into its marketing.</p>\n",
      "<p class=\"yf-1pe5jgt\">Back in April of this year. <a class=\"link\" data-rapid_p=\"11\" data-ylk=\"slk:Musk;elm:context_link;itc:0;sec:content-canvas\" href=\"https://jalopnik.com/elon-musk-s-far-right-turn-isnt-stopping-his-employees-1851653731\" rel=\"nofollow noopener\" target=\"_blank\">Musk</a> said that <a class=\"link\" data-rapid_p=\"12\" data-ylk=\"slk:Tesla;elm:context_link;itc:0;sec:content-canvas\" href=\"https://jalopnik.com/car-buying/tesla\" rel=\"nofollow noopener\" target=\"_blank\">Tesla</a> was going “ball to the wall for autonomy” while saying the <a class=\"link\" data-rapid_p=\"13\" data-ylk=\"slk:robotaxi;elm:context_link;itc:0;sec:content-canvas\" href=\"https://jalopnik.com/tesla-robotaxi-looks-a-lot-like-a-ploy-to-pump-the-stoc-1851616372\" rel=\"nofollow noopener\" target=\"_blank\">robotaxi</a> would be revealed later this year (<a class=\"link\" data-rapid_p=\"14\" data-ylk=\"slk:nine days from now, in fact.);elm:context_link;itc:0;sec:content-canvas\" href=\"https://jalopnik.com/tesla-robotaxi-looks-a-lot-like-a-ploy-to-pump-the-stoc-1851616372\" rel=\"nofollow noopener\" target=\"_blank\">nine days from now, in fact.)</a> Musk has been a huge cheerleader for autonomy for over a decade now, and he’s even persuaded customers to pay thousands of dollars for Full Self-Driving. From <a class=\"link\" data-rapid_p=\"15\" data-ylk=\"slk:Bloomberg;elm:context_link;itc:0;sec:content-canvas\" href=\"https://www.bloomberg.com/news/articles/2024-09-30/tesla-defeats-investor-lawsuit-over-musk-s-autopilot-marketing?sref=P6Q0mxvj\" rel=\"nofollow noopener\" target=\"_blank\">Bloomberg</a>:</p>\n",
      "<p class=\"yf-1pe5jgt\">Still, Tesla faces numerous federal probes into whether or not Autopilot defects have caused fatal crashes. It’s also <a class=\"link\" data-rapid_p=\"16\" data-ylk=\"slk:facing investigations by federal prosecutors and the Securities and Exchange Commission;elm:context_link;itc:0;sec:content-canvas\" href=\"https://jalopnik.com/tesla-may-have-committed-securities-wire-fraud-with-ex-1851463676\" rel=\"nofollow noopener\" target=\"_blank\">facing investigations by federal prosecutors and the Securities and Exchange Commission</a> into whether Tesla made misleading claims about the feature to the public, Bloomberg reports. Similar claims that have been brought by the California Department of Motor Vehicles were allowed to move forward earlier in 2024.</p>\n",
      "<p class=\"yf-1pe5jgt\"><a class=\"link\" data-rapid_p=\"18\" data-ylk=\"slk:A version of this article originally appeared on Jalopnik’s The Morning Shift;elm:context_link;itc:0;sec:content-canvas\" href=\"https://jalopnik.com/massive-dockworkers-strike-could-send-ripples-through-a-1851661644\" rel=\"nofollow noopener\" target=\"_blank\">A version of this article originally appeared on Jalopnik’s The Morning Shift</a>.</p>\n",
      "<p class=\"yf-1pe5jgt\">For the latest news, <a class=\"link\" data-rapid_p=\"19\" data-ylk=\"slk:Facebook;elm:context_link;itc:0;sec:content-canvas\" href=\"https://www.facebook.com/quartznews\" rel=\"nofollow noopener\" target=\"_blank\">Facebook</a>, <a class=\"link\" data-rapid_p=\"20\" data-ylk=\"slk:Twitter;elm:context_link;itc:0;sec:content-canvas\" href=\"https://twitter.com/qz\" rel=\"nofollow noopener\" target=\"_blank\">Twitter</a> and <a class=\"link\" data-rapid_p=\"21\" data-ylk=\"slk:Instagram;elm:context_link;itc:0;sec:content-canvas\" href=\"https://instagram.com/qz\" rel=\"nofollow noopener\" target=\"_blank\">Instagram</a>.</p>\n",
      "Error accessing articles on page https://finance.yahoo.com/news/tesla-remix-tune-liveone-shares-171411249.html\n",
      "<p class=\"yf-1pe5jgt\">Top Midday Stories: PepsiCo to Buy Siete Foods for $1.2 Billion; CVS Health Reportedly Considers Breaking up Insurance, Pharmacy Businesses</p>\n",
      "<p class=\"yf-1pe5jgt\">It’s been a rough ride for Nio (NIO) shareholders in recent years. While share price volatility has certainly benefited some investors, including myself at points, the NIO stock’s long-term trajectory has been downward. However, over the past month, NIO shares have risen more than 70% from a post-pandemic nadir. Despite some optimism, I’m inherently cautious given potential liquidity challenges and the launch of its lower-margin ONVO brand. <strong>I’m currently bearish on NIO. </strong></p>\n",
      "<p class=\"yf-1pe5jgt\">Nio isn’t yet a household name in many circles, but the Chinese electric vehicle (EV) manufacturer rose to prominence during the pandemic as investors rushed into new energy vehicles (NEVs). For those of you less familiar with the brand, Nio has focused on the production of premium smart EVs. The company has an impressive variety, while employing battery-swapping technology, although I’m bearish on Nio right now.</p>\n",
      "<p class=\"yf-1pe5jgt\">Nio’s stock recently recovered from a post-pandemic nadir, and this can attributed to a combination of factors that have bolstered investor confidence. First among these is when the company’s strong Q2 earnings report in early September showcased <a class=\"link\" data-rapid_p=\"11\" data-ylk=\"slk:better-than-expected financial results;elm:context_link;itc:0;sec:content-canvas\" href=\"https://www.tipranks.com/news/nio-earnings-nio-posts-robust-q2-results-issues-upbeat-outlook?utm_source=finance.yahoo.com&amp;utm_medium=referral\" rel=\"nofollow noopener\" target=\"_blank\">better-than-expected financial results</a>, with the delivery of 57,000 units during the period. These results also preface a possible recovery through 2025 and the potential to lift annual deliveries toward 250,000 units.</p>\n",
      "<p class=\"yf-1pe5jgt\">This was supported by strong August deliveries, with more than 20,000 units heading out of the factory. Peers in China’s EV market also hinted at improved market conditions. Moreover, Nio Inc. has assured investors that as unit volumes increase, that helps progress toward its long-term vehicle margin target of 25%. More recently<strong>, </strong><a class=\"link\" data-rapid_p=\"12\" data-ylk=\"slk:the Chinese government has introduced stimulus measures;elm:context_link;itc:0;sec:content-canvas\" href=\"https://www.tipranks.com/news/u-s-listed-china-tech-stocks-surge-on-economic-boost?utm_source=finance.yahoo.com&amp;utm_medium=referral\" rel=\"nofollow noopener\" target=\"_blank\">the Chinese government has introduced stimulus measures</a> that should lend a boost, and it also helped drive NIO stock higher.</p>\n",
      "<p class=\"yf-1pe5jgt\">NIO stock’s ability to maintain its upward momentum seems doubtful, despite the aforementioned positive developments. The company’s Q2 2024 results included improvements in certain profitability metrics, with decreased operating and net losses compared to previous quarters. These figures suggest that Nio is making progress in cost management while pursuing growth initiatives, such as the “Power Up Counties” program to extend its charging network across China.</p>\n",
      "<p class=\"yf-1pe5jgt\">However, there are concerns that could bring an end to this momentum. For one, Nio’s large share based compensation program (SBC), while potentially beneficial for retention and productivity, leads to dilution for existing shareholders. This, coupled with a significant increase in SG&amp;A (Selling, General, and Admin) expenses, may hinder the company’s true financial recovery.</p>\n",
      "<p class=\"yf-1pe5jgt\">Moreover, as the company continues to post losses and burns through cash (even despite the heavy use of SBC), investors will likely become increasingly concerned. Nio currently has a net cash position of ~$433 million, based on cash of $4.99 billion and total debt of $4.56 billion. In Q2 2024, the net loss attributable to shareholders was $705.4 million. Nio’s cash burn during the quarter was around $600 million.</p>\n",
      "<p class=\"yf-1pe5jgt\">While I’m bearish on NIO stock, it’s worth investigating ONVO, which is Nio’s new sub-brand which presents both opportunities and challenges for the company.</p>\n",
      "<p class=\"yf-1pe5jgt\">On one hand, ONVO could be the answer to Nio’s quest to increase unit volume and build market share. The L60, ONVO’s first model, is strategically priced to compete with Tesla’s (TSLA) Model Y and aims to attract buyers in the RMB 150,000-225,000 range. Its innovative battery subscription model allows for a lower starting price.</p>\n",
      "<p class=\"yf-1pe5jgt\">However, ONVO might also introduce new struggles for Nio. First, the lower price point of ONVO vehicles is likely to compress Nio’s overall margins — at least initially. The company only expects ONVO to start contributing positively to its bottom line once it reaches monthly sales targets of 20,000, which may take considerable time and resources to achieve.</p>\n",
      "<p class=\"yf-1pe5jgt\">Moreover, the introduction of ONVO and the planned launch of another sub-brand, Firefly, will likely increase Nio’s sales and marketing expenses in the coming quarters. Critics will know that this additional spending comes at a time when Nio is already facing financial challenges.</p>\n",
      "<p class=\"yf-1pe5jgt\">As shown on TipRanks, NIO comes in as a Moderate Buy based on six Buys, four Holds, and one Sell rating assigned by Wall Street analysts in the past three months. However, due to the recent run higher in NIO stock, the <a class=\"link\" data-rapid_p=\"14\" data-ylk=\"slk:average NIO stock price target;elm:context_link;itc:0;sec:content-canvas\" href=\"https://www.tipranks.com/stocks/nio/forecast?utm_source=finance.yahoo.com&amp;utm_medium=referral\" rel=\"nofollow noopener\" target=\"_blank\">average NIO stock price target</a> of $5.97 is nearly 20% lower than the current trading price.</p>\n",
      "<p class=\"yf-1pe5jgt\">Nio stock is trading considerably above its share price target, <strong>and I think that’s an indication that the stock has rallied too high for now.</strong> The company has challenges to overcome, including the pursuit of growing the business without putting even more pressure on finances in the near term. Liquidity is an issue for investors to keep an eye on. However, there’s a possible upside scenario. ONVO could provide the volume that Nio needs. There’s a lot to unpack, and I fear the stock will remain sensitive to new Chinese economic data for now. I’m currently bearish due to the recent run-up in the stock price.</p>\n",
      "<p class=\"yf-1pe5jgt\"><a class=\"link\" data-rapid_p=\"16\" data-ylk=\"slk:Disclosure;elm:context_link;itc:0;sec:content-canvas\" href=\"https://www.tipranks.com/legal/disclosure-1?utm_source=finance.yahoo.com&amp;utm_medium=referral\" rel=\"nofollow noopener\" target=\"_blank\"><strong>Disclosure</strong></a></p>\n"
     ]
    }
   ],
   "source": [
    "# Scrape all related articles\n",
    "for url in urls:\n",
    "    get_news_info(url)"
   ]
  },
  {
   "cell_type": "code",
   "execution_count": 151,
   "metadata": {},
   "outputs": [],
   "source": [
    "driver.quit()"
   ]
  },
  {
   "cell_type": "code",
   "execution_count": null,
   "metadata": {},
   "outputs": [],
   "source": []
  }
 ],
 "metadata": {
  "kernelspec": {
   "display_name": "venv",
   "language": "python",
   "name": "python3"
  },
  "language_info": {
   "codemirror_mode": {
    "name": "ipython",
    "version": 3
   },
   "file_extension": ".py",
   "mimetype": "text/x-python",
   "name": "python",
   "nbconvert_exporter": "python",
   "pygments_lexer": "ipython3",
   "version": "3.12.4"
  }
 },
 "nbformat": 4,
 "nbformat_minor": 2
}
